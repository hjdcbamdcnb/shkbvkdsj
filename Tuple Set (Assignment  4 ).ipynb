{
 "cells": [
  {
   "cell_type": "code",
   "execution_count": 19,
   "id": "1c147334",
   "metadata": {},
   "outputs": [
    {
     "name": "stdout",
     "output_type": "stream",
     "text": [
      "16\n"
     ]
    }
   ],
   "source": [
    "a=[1,2,3,4,6]\n",
    "def my_reduce(Add,a):\n",
    "    return b\n",
    "def Add(b,c):\n",
    "    return b+c\n",
    "b=a[0]\n",
    "for i in a[1::1]:\n",
    "    c=i\n",
    "    b=b+c\n",
    "print(my_reduce(Add,a))\n",
    "    \n",
    "    \n",
    "    \n",
    "    \n",
    "    "
   ]
  },
  {
   "cell_type": "code",
   "execution_count": 27,
   "id": "bb960060",
   "metadata": {},
   "outputs": [
    {
     "data": {
      "text/plain": [
       "[2, 4, 6, 8, 10]"
      ]
     },
     "execution_count": 27,
     "metadata": {},
     "output_type": "execute_result"
    }
   ],
   "source": [
    "a=[1,2,3,4,5,6,7,8,9,10]\n",
    "def my_filter(even,a):\n",
    "    return even(i)\n",
    "def even(q):\n",
    "    for i in a:\n",
    "        if i%2==0:\n",
    "            yield i\n",
    "list(my_filter(even,a))                "
   ]
  },
  {
   "cell_type": "code",
   "execution_count": 28,
   "id": "5f2080e8",
   "metadata": {},
   "outputs": [
    {
     "data": {
      "text/plain": [
       "['x', 'xx', 'xxx', 'xxxx', 'y', 'yy', 'yyy', 'yyyy', 'z', 'zz', 'zzz', 'zzzz']"
      ]
     },
     "execution_count": 28,
     "metadata": {},
     "output_type": "execute_result"
    }
   ],
   "source": [
    "[i*j for i in \"xyz\" for j in range(1,5)]"
   ]
  },
  {
   "cell_type": "code",
   "execution_count": 29,
   "id": "e987d5eb",
   "metadata": {},
   "outputs": [
    {
     "data": {
      "text/plain": [
       "['x', 'y', 'z', 'xx', 'yy', 'zz', 'xxx', 'yyy', 'zzz', 'xxxx', 'yyyy', 'zzzz']"
      ]
     },
     "execution_count": 29,
     "metadata": {},
     "output_type": "execute_result"
    }
   ],
   "source": [
    "[j*i for i in range(1,5) for j in \"xyz\"]"
   ]
  },
  {
   "cell_type": "code",
   "execution_count": 30,
   "id": "e4dfd3f6",
   "metadata": {},
   "outputs": [
    {
     "data": {
      "text/plain": [
       "[[2], [3], [4], [3], [4], [5], [4], [5], [6]]"
      ]
     },
     "execution_count": 30,
     "metadata": {},
     "output_type": "execute_result"
    }
   ],
   "source": [
    "[[j] for i in range(0,3) for j in range(2+i,5+i) ]"
   ]
  },
  {
   "cell_type": "code",
   "execution_count": 31,
   "id": "bb7808ee",
   "metadata": {},
   "outputs": [
    {
     "data": {
      "text/plain": [
       "[[2, 3, 4, 5], [3, 4, 5, 6], [4, 5, 6, 7], [5, 6, 7, 8]]"
      ]
     },
     "execution_count": 31,
     "metadata": {},
     "output_type": "execute_result"
    }
   ],
   "source": [
    "[[i,i+1,i+2,i+3] for i in range(2,6)]"
   ]
  },
  {
   "cell_type": "code",
   "execution_count": 32,
   "id": "c5f4f43c",
   "metadata": {},
   "outputs": [
    {
     "data": {
      "text/plain": [
       "[(1, 1), (2, 1), (3, 1), (1, 2), (2, 2), (3, 2), (1, 3), (2, 3), (3, 3)]"
      ]
     },
     "execution_count": 32,
     "metadata": {},
     "output_type": "execute_result"
    }
   ],
   "source": [
    "[(i,j) for j in range(1,4) for i in range(1,4)]"
   ]
  },
  {
   "cell_type": "code",
   "execution_count": null,
   "id": "a6aaae8e",
   "metadata": {},
   "outputs": [],
   "source": []
  }
 ],
 "metadata": {
  "kernelspec": {
   "display_name": "Python 3",
   "language": "python",
   "name": "python3"
  },
  "language_info": {
   "codemirror_mode": {
    "name": "ipython",
    "version": 3
   },
   "file_extension": ".py",
   "mimetype": "text/x-python",
   "name": "python",
   "nbconvert_exporter": "python",
   "pygments_lexer": "ipython3",
   "version": "3.8.8"
  }
 },
 "nbformat": 4,
 "nbformat_minor": 5
}
