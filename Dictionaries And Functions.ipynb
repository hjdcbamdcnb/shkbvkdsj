{
 "cells": [
  {
   "cell_type": "code",
   "execution_count": 17,
   "id": "9e0616df",
   "metadata": {},
   "outputs": [],
   "source": [
    "def area(a,b,c):\n",
    "    s=(a+b+c)/2\n",
    "    x=(s*(s-a)*(s-b)*(s-c))**0.5\n",
    "    return x"
   ]
  },
  {
   "cell_type": "code",
   "execution_count": 18,
   "id": "0d2c3dbe",
   "metadata": {},
   "outputs": [
    {
     "data": {
      "text/plain": [
       "24.0"
      ]
     },
     "execution_count": 18,
     "metadata": {},
     "output_type": "execute_result"
    }
   ],
   "source": [
    "area(6,8,10)"
   ]
  },
  {
   "cell_type": "code",
   "execution_count": 20,
   "id": "d8ab40e3",
   "metadata": {},
   "outputs": [
    {
     "data": {
      "text/plain": [
       "['mahipal', 'ineuron', 'science', 'analytics']"
      ]
     },
     "execution_count": 20,
     "metadata": {},
     "output_type": "execute_result"
    }
   ],
   "source": [
    "a=[\"mahipal\",\"yadav\",\"ineuron\",\"data\",\"science\",\"analytics\"]\n",
    "r=[]\n",
    "def long_word_list(a,n):\n",
    "    for i in a:\n",
    "        if len(i)>n:\n",
    "            r.append(i)\n",
    "    return r\n",
    "long_word_list(a,5)"
   ]
  },
  {
   "cell_type": "code",
   "execution_count": 11,
   "id": "fe1652f3",
   "metadata": {},
   "outputs": [
    {
     "data": {
      "text/plain": [
       "[7, 5, 7, 4, 7, 9]"
      ]
     },
     "execution_count": 11,
     "metadata": {},
     "output_type": "execute_result"
    }
   ],
   "source": [
    "a=[\"mahipal\",\"yadav\",\"ineuron\",\"data\",\"science\",\"analytics\"]\n",
    "def list_of_int(i):\n",
    "    return len(i)\n",
    "list(map(list_of_int,a))"
   ]
  },
  {
   "cell_type": "code",
   "execution_count": 12,
   "id": "22803e2e",
   "metadata": {},
   "outputs": [],
   "source": [
    "def is_vowel(str):\n",
    "    if str=='a' or str=='e' or str=='i' or str=='o' or str=='u':\n",
    "        return True\n",
    "    else:\n",
    "        return False"
   ]
  },
  {
   "cell_type": "code",
   "execution_count": 13,
   "id": "fb4396c8",
   "metadata": {},
   "outputs": [
    {
     "data": {
      "text/plain": [
       "False"
      ]
     },
     "execution_count": 13,
     "metadata": {},
     "output_type": "execute_result"
    }
   ],
   "source": [
    "is_vowel('z')"
   ]
  }
 ],
 "metadata": {
  "kernelspec": {
   "display_name": "Python 3",
   "language": "python",
   "name": "python3"
  },
  "language_info": {
   "codemirror_mode": {
    "name": "ipython",
    "version": 3
   },
   "file_extension": ".py",
   "mimetype": "text/x-python",
   "name": "python",
   "nbconvert_exporter": "python",
   "pygments_lexer": "ipython3",
   "version": "3.8.8"
  }
 },
 "nbformat": 4,
 "nbformat_minor": 5
}
